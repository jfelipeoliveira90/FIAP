{
 "cells": [
  {
   "cell_type": "markdown",
   "metadata": {},
   "source": [
    "# Orientação à Objetos"
   ]
  },
  {
   "cell_type": "markdown",
   "metadata": {},
   "source": [
    "## Decoradores"
   ]
  },
  {
   "cell_type": "code",
   "execution_count": null,
   "metadata": {},
   "outputs": [],
   "source": [
    "def echo_funcname(func):\n",
    " \n",
    "    def finterna(*args, **kwargs):\n",
    "        print (\"Chamando funcao: %s()\"  % (func.__name__))\n",
    "        return func(*args, **kwargs)\n",
    " \n",
    "    return finterna\n",
    " \n",
    "@echo_funcname\n",
    "def dobro(x):\n",
    "    return x*2\n",
    " \n",
    "dobro(10)"
   ]
  },
  {
   "cell_type": "code",
   "execution_count": null,
   "metadata": {},
   "outputs": [],
   "source": [
    "def echo_funcname(func):\n",
    " \n",
    "    def finterna(*args, **kwargs):\n",
    "        print (\"Chamando funcao: %s()\"  % (func.__name__))\n",
    "        return func(*args, **kwargs)\n",
    " \n",
    "    return finterna\n",
    " \n",
    "def dobro(x):\n",
    "    \"\"\" Uma funcao exemplo qualquer.\n",
    "    \"\"\"\n",
    "    return 2*x\n",
    " \n",
    "dobro_com_print = echo_funcname(dobro)\n",
    "print (dobro_com_print(10))"
   ]
  },
  {
   "cell_type": "markdown",
   "metadata": {},
   "source": [
    "## Classes"
   ]
  },
  {
   "cell_type": "code",
   "execution_count": null,
   "metadata": {},
   "outputs": [],
   "source": [
    "#Abstração\n",
    "class SomeClass:    \n",
    "    def create_arr(self):\n",
    "        self.arr = []\n",
    "    \n",
    "    def insert_to_arr(self, value): \n",
    "        self.arr.append(value)"
   ]
  },
  {
   "cell_type": "code",
   "execution_count": null,
   "metadata": {},
   "outputs": [],
   "source": [
    "# Instanciamento\n",
    "obj = SomeClass()\n",
    "obj.create_arr()\n",
    "obj.insert_to_arr(5)\n",
    "obj.arr"
   ]
  },
  {
   "cell_type": "markdown",
   "metadata": {},
   "source": [
    "## Herança Simples"
   ]
  },
  {
   "cell_type": "code",
   "execution_count": null,
   "metadata": {},
   "outputs": [],
   "source": [
    "class Pendrive(object):\n",
    "    def __init__(self, tamanho, interface='2.0'):\n",
    "        self.tamanho = tamanho\n",
    "        self.interface = interface\n",
    "class MP3Player(Pendrive):\n",
    "    def __init__(self, tamanho, interface='2.0', turner=False):\n",
    "        self.turner = turner\n",
    "        #Pendrive.__init__(self, tamanho, interface)\n",
    "        super().__init__(tamanho)\n",
    "mp3 = MP3Player(1024)\n",
    "print ('%s\\n%s\\n%s' % (mp3.tamanho, mp3.interface, mp3.turner))"
   ]
  },
  {
   "cell_type": "markdown",
   "metadata": {},
   "source": [
    "## Herança Múltipla"
   ]
  },
  {
   "cell_type": "code",
   "execution_count": null,
   "metadata": {},
   "outputs": [],
   "source": [
    "class Terrestre(object):\n",
    "    \"\"\"\n",
    "    Classe de veículos terrestres\n",
    "    \"\"\"\n",
    "    se_move_em_terra = True\n",
    "    def __init__(self, velocidade=100):\n",
    "        \"\"\"\n",
    "        Inicializa o objeto\n",
    "        \"\"\"\n",
    "        self.velocidade_em_terra = velocidade\n",
    "class Aquatico(object):\n",
    "    \"\"\"\n",
    "    Classe de veículos aquaticos\n",
    "    \"\"\"\n",
    "    se_move_na_agua = True\n",
    "    def __init__(self, velocidade=5):\n",
    "        \"\"\"\n",
    "        Inicializa o objeto\n",
    "        \"\"\"\n",
    "        self.velocidade_agua = velocidade\n",
    "        \n",
    "class Carro(Terrestre):\n",
    "    \"\"\"\n",
    "    Classe de carros\n",
    "    \"\"\"\n",
    "    rodas = 4\n",
    "    def __init__(self, velocidade=120, pistoes=4):\n",
    "        \"\"\"\n",
    "        Inicializa o objeto\n",
    "        \"\"\"\n",
    "        self.pistoes = pistoes\n",
    "        Terrestre.__init__(self, velocidade=velocidade)\n",
    "class Barco(Aquatico):\n",
    "    \"\"\"\n",
    "    Classe de barcos\n",
    "    \"\"\"\n",
    "    def __init__(self, velocidade=6, helices=1):\n",
    "        \"\"\"\n",
    "        Inicializa o objeto\n",
    "        \"\"\"\n",
    "        self.helices = helices\n",
    "        Aquatico.__init__(self, velocidade=velocidade)\n",
    "        \n",
    "class Anfibio(Carro, Barco):\n",
    "    \"\"\"\n",
    "    Classe de anfíbios\n",
    "    \"\"\"\n",
    "    def __init__(self, velocidade_em_terra=80,\n",
    "        velocidade_na_agua=4, pistoes=6, helices=2):\n",
    "        \"\"\"\n",
    "        Inicializa o objeto\n",
    "        \"\"\"\n",
    "        # É preciso evocar o __init__ de cada classe pai\n",
    "        Carro.__init__(self, velocidade=velocidade_em_terra,\n",
    "        pistoes=pistoes)\n",
    "        Barco.__init__(self, velocidade=velocidade_na_agua,\n",
    "        helices=helices)\n",
    "novo_anfibio = Anfibio()\n",
    "for atr in dir(novo_anfibio):\n",
    "# Se não for método especial:\n",
    "    if not atr.startswith('__'):\n",
    "        print (atr, '=', getattr(novo_anfibio, atr))"
   ]
  },
  {
   "cell_type": "code",
   "execution_count": null,
   "metadata": {},
   "outputs": [],
   "source": [
    "class Animal:\n",
    "    def __init__(self, nomeAnimal):\n",
    "        print(nomeAnimal, 'é um animal.')\n",
    "\n",
    "class Mamifero(Animal):\n",
    "    def __init__(self, nomeMamifero):\n",
    "        print(nomeMamifero, 'é um animal de sangue quente.')\n",
    "        super().__init__(nomeMamifero)\n",
    "    \n",
    "class MamiferoNaoVoa(Mamifero):\n",
    "    def __init__(self, nomeMamiferoNaoVoa):\n",
    "        print(nomeMamiferoNaoVoa, \"não pode voar.\")\n",
    "        super().__init__(nomeMamiferoNaoVoa)\n",
    "\n",
    "class MamiferoNaoMarinho(Mamifero):\n",
    "    def __init__(self, nomeMamiferoNaoMarinho):\n",
    "        print(nomeMamiferoNaoMarinho, \"não pode nadar.\")\n",
    "        super().__init__(nomeMamiferoNaoMarinho)\n",
    "\n",
    "class Dog(MamiferoNaoMarinho, MamiferoNaoVoa):\n",
    "    def __init__(self):\n",
    "        print('Cachorro tem 4 patas.')\n",
    "        super().__init__('Cachorro')\n",
    "    \n",
    "d = Dog()\n",
    "print('')\n",
    "bat = MamiferoNaoMarinho('Morcego') "
   ]
  },
  {
   "cell_type": "markdown",
   "metadata": {},
   "source": [
    "## Propriedades"
   ]
  },
  {
   "cell_type": "code",
   "execution_count": null,
   "metadata": {},
   "outputs": [],
   "source": [
    "class Celsius:\n",
    "    def __init__(self, temperature = 0):\n",
    "        self.temperature = temperature\n",
    "\n",
    "    def to_fahrenheit(self):\n",
    "        return (self.temperature * 1.8) + 32"
   ]
  },
  {
   "cell_type": "code",
   "execution_count": null,
   "metadata": {},
   "outputs": [],
   "source": [
    "temp = Celsius()\n",
    "temp.temperature = 37\n",
    "temp.to_fahrenheit()"
   ]
  },
  {
   "cell_type": "code",
   "execution_count": null,
   "metadata": {},
   "outputs": [],
   "source": [
    "class Celsius:\n",
    "    def __init__(self, temperature = 0):\n",
    "        self.set_temperature(temperature)\n",
    "\n",
    "    def to_fahrenheit(self):\n",
    "        return (self.get_temperature() * 1.8) + 32\n",
    "\n",
    "    # new update\n",
    "    def get_temperature(self):\n",
    "        return self._temperature\n",
    "\n",
    "    def set_temperature(self, value):\n",
    "        if value < -273:\n",
    "            raise ValueError(\"Temperature below -273 is not possible\")\n",
    "        self._temperature = value"
   ]
  },
  {
   "cell_type": "code",
   "execution_count": null,
   "metadata": {},
   "outputs": [],
   "source": [
    "c = Celsius(-277) "
   ]
  },
  {
   "cell_type": "code",
   "execution_count": null,
   "metadata": {},
   "outputs": [],
   "source": [
    "c = Celsius(37)\n",
    "c.get_temperature()"
   ]
  },
  {
   "cell_type": "code",
   "execution_count": null,
   "metadata": {},
   "outputs": [],
   "source": [
    "c.set_temperature(10)\n",
    "c.get_temperature()"
   ]
  },
  {
   "cell_type": "code",
   "execution_count": null,
   "metadata": {},
   "outputs": [],
   "source": [
    "c.set_temperature(-300)"
   ]
  },
  {
   "cell_type": "code",
   "execution_count": null,
   "metadata": {},
   "outputs": [],
   "source": [
    "c = Celsius(-277) \n",
    "\n",
    "c = Celsius(37)\n",
    "c.get_temperature()\n",
    "\n",
    "c.set_temperature(10)\n",
    "c.get_temperature()\n",
    "\n",
    "c.set_temperature(-300)"
   ]
  },
  {
   "cell_type": "code",
   "execution_count": null,
   "metadata": {},
   "outputs": [],
   "source": [
    "class Celsius2:\n",
    "    def __init__(self, temperature = 0):\n",
    "        self.temperature = temperature\n",
    "\n",
    "    def to_fahrenheit(self):\n",
    "        return (self.temperature * 1.8) + 32\n",
    "\n",
    "    def get_temperature(self):\n",
    "        print(\"Getting value\")\n",
    "        return self._temperature\n",
    "\n",
    "    def set_temperature(self, value):\n",
    "        if value < -273:\n",
    "            raise ValueError(\"Temperature below -273 is not possible\")\n",
    "        print(\"Setting value\")\n",
    "        self._temperature = value\n",
    "\n",
    "    temperature = property(get_temperature,set_temperature)"
   ]
  },
  {
   "cell_type": "code",
   "execution_count": null,
   "metadata": {},
   "outputs": [],
   "source": [
    "temperature = property(get_temperature,set_temperature)"
   ]
  },
  {
   "cell_type": "code",
   "execution_count": null,
   "metadata": {},
   "outputs": [],
   "source": [
    "# make empty property\n",
    "temperature = property()\n",
    "# assign fget\n",
    "temperature = temperature.getter(get_temperature)\n",
    "# assign fset\n",
    "temperature = temperature.setter(set_temperature)"
   ]
  },
  {
   "cell_type": "code",
   "execution_count": null,
   "metadata": {},
   "outputs": [],
   "source": [
    "class Celsius3:\n",
    "    def __init__(self, temperature = 0):\n",
    "        self._temperature = temperature\n",
    "\n",
    "    def to_fahrenheit(self):\n",
    "        return (self.temperature * 1.8) + 32\n",
    "\n",
    "    @property\n",
    "    def temperature(self):\n",
    "        print(\"Getting value\")\n",
    "        return self._temperature\n",
    "\n",
    "    @temperature.setter\n",
    "    def temperature(self, value):\n",
    "        if value < -273:\n",
    "            raise ValueError(\"Temperature below -273 is not possible\")\n",
    "        print(\"Setting value\")\n",
    "        self._temperature = value"
   ]
  },
  {
   "cell_type": "markdown",
   "metadata": {},
   "source": [
    "## Decoradores de Classe"
   ]
  },
  {
   "cell_type": "code",
   "execution_count": null,
   "metadata": {},
   "outputs": [],
   "source": [
    "import time\n",
    "def logger(cls):\n",
    "    \"\"\"\n",
    "    Função decoradora de classes\n",
    "    \"\"\"\n",
    "    class Logged(cls):\n",
    "        \"\"\"\n",
    "        Classe derivada que mostra os parâmetros de inicialização\n",
    "        \"\"\"\n",
    "        def __init__(self, *args, **kwargs):\n",
    "            print ('Hora:', time.asctime())\n",
    "            print ('Classe:', repr(cls))\n",
    "            print ('args:', args)\n",
    "            print ('kwargs:', kwargs)\n",
    "            # Executa a inicialização da classe antiga\n",
    "            cls.__init__(self, *args, **kwargs)\n",
    "    # Retorna a nova classe\n",
    "    return Logged\n",
    "\n",
    "\n",
    "@logger\n",
    "class Musica(object):\n",
    "    def __init__(self, nome, artista, album):\n",
    "        self.nome = nome\n",
    "        self.artista = artista\n",
    "        self.album = album\n",
    "m = Musica('Bohemian Rhapsody', 'Queen', album='A Night at the Opera')"
   ]
  },
  {
   "cell_type": "code",
   "execution_count": null,
   "metadata": {},
   "outputs": [],
   "source": []
  }
 ],
 "metadata": {
  "kernelspec": {
   "display_name": "Python 3",
   "language": "python",
   "name": "python3"
  },
  "language_info": {
   "codemirror_mode": {
    "name": "ipython",
    "version": 3
   },
   "file_extension": ".py",
   "mimetype": "text/x-python",
   "name": "python",
   "nbconvert_exporter": "python",
   "pygments_lexer": "ipython3",
   "version": "3.6.4"
  }
 },
 "nbformat": 4,
 "nbformat_minor": 2
}
