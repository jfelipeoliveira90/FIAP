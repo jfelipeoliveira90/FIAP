{
 "cells": [
  {
   "cell_type": "markdown",
   "metadata": {},
   "source": [
    "# Exercícios"
   ]
  },
  {
   "cell_type": "markdown",
   "metadata": {},
   "source": [
    "## 1) Crie uma classe que irá modelar características geométricas de um círculo. Deverá implementar os métodos:\n",
    "        -> Área \n",
    "        -> Perímetro\n",
    "## Utilize atributos de classe e de instância apropriados. Crie um inicializador e métodos.\n",
    "$area = \\pi*r^2$\n",
    "\n",
    "$perimetro = 2*\\pi*r$"
   ]
  },
  {
   "cell_type": "code",
   "execution_count": 5,
   "metadata": {},
   "outputs": [
    {
     "name": "stdout",
     "output_type": "stream",
     "text": [
      "area:  28.26\n",
      "perimetro:  18.84\n"
     ]
    }
   ],
   "source": [
    "# resposta 1\n",
    "class Circulo:\n",
    "    def __init__(self, raio):\n",
    "            self.raio = raio\n",
    "    \n",
    "    def area(self):\n",
    "        return 3.14 * self.raio ** 2\n",
    "    \n",
    "    def perimetro(self):\n",
    "        return 2 * 3.14 * self.raio\n",
    "    \n",
    "circulo = Circulo(3)\n",
    "    \n",
    "print('area: ', circulo.area())\n",
    "print('perimetro: ', circulo.perimetro())\n",
    "    "
   ]
  },
  {
   "cell_type": "markdown",
   "metadata": {},
   "source": [
    "## 2) Crie uma classe chamada matemática que conterá duas classes: trigonométrica e algébrica. Defina dentro da classe trigonométrica as seguintes funções:\n",
    "    -> seno\n",
    "    -> cosseno\n",
    "    -> tangente\n",
    "## Defina dentro da classe algébrica as seguintes funções: \n",
    "    -> soma\n",
    "    -> subtração\n",
    "    -> multiplicação\n",
    "    -> divisão\n",
    "## Cada função deverá receber array e retornar array"
   ]
  },
  {
   "cell_type": "code",
   "execution_count": 29,
   "metadata": {},
   "outputs": [
    {
     "name": "stdout",
     "output_type": "stream",
     "text": [
      "Seno:  [0.         0.5        0.70710678 0.8660254  1.        ]\n",
      "Cosseno:  [ 1.000000e+00  6.123234e-17 -1.000000e+00]\n",
      "Tangente:  [ 1.22464680e-16  1.63312394e+16 -1.22464680e-16]\n",
      "Soma:  2\n",
      "Subtracao:  1\n",
      "Multiplicacao:  4\n",
      "Divisao:  3.0\n"
     ]
    }
   ],
   "source": [
    "# resposta 2\n",
    "import numpy as np\n",
    "from numpy import pi\n",
    "\n",
    "class Matematica:\n",
    "    \n",
    "    class Trigonometrica:\n",
    "        \n",
    "        def seno(arr):\n",
    "            return np.sin(arr)\n",
    "        \n",
    "        def cosseno(arr):\n",
    "            return np.cos(arr)\n",
    "        \n",
    "        def tangente(arr):\n",
    "            return np.tan(arr)\n",
    "        \n",
    "    class Algebrica:\n",
    "        \n",
    "        def soma(arr):\n",
    "            return np.sum(arr)\n",
    "        \n",
    "        def subtracao(arr):\n",
    "            return np.subtract(arr[0], arr[1])\n",
    "        \n",
    "        def multiplicacao(arr):\n",
    "            return np.multiply(arr[0], arr[1])\n",
    "        \n",
    "        def divisao(arr):\n",
    "            return np.divide(arr[0], arr[1])\n",
    "        \n",
    "print('Seno: ', Matematica.Trigonometrica.seno(np.array((0., 30., 45., 60., 90.)) * pi / 180.))\n",
    "print('Cosseno: ', Matematica.Trigonometrica.cosseno(np.array([0, pi/2, pi])))\n",
    "print('Tangente: ', Matematica.Trigonometrica.tangente(np.array([-pi,pi/2,pi])))\n",
    "\n",
    "print('Soma: ', Matematica.Algebrica.soma([1, 1]))\n",
    "print('Subtracao: ', Matematica.Algebrica.subtracao([2, 1]))\n",
    "print('Multiplicacao: ', Matematica.Algebrica.multiplicacao([2, 2]))\n",
    "print('Divisao: ', Matematica.Algebrica.divisao([6, 2]))\n",
    "    "
   ]
  },
  {
   "cell_type": "markdown",
   "metadata": {},
   "source": [
    "## 3) Dados 2 arrays, A e B, remova de A todo elemento pertencente a B"
   ]
  },
  {
   "cell_type": "code",
   "execution_count": 52,
   "metadata": {},
   "outputs": [
    {
     "name": "stdout",
     "output_type": "stream",
     "text": [
      "[2, 5]\n"
     ]
    }
   ],
   "source": [
    "# resposta 3\n",
    "\n",
    "a = [1, 2, 3, 5]\n",
    "b = [3, 4, 1]\n",
    "\n",
    "a = [i for i in a if i not in b]\n",
    "\n",
    "print(a)\n"
   ]
  },
  {
   "cell_type": "markdown",
   "metadata": {},
   "source": [
    "## 4) Crie uma função que recebe um array, um inteiro n e um inteiro m e que retorne outro array contendo elementos que estão entre n e m do array recebido pela função"
   ]
  },
  {
   "cell_type": "code",
   "execution_count": 56,
   "metadata": {},
   "outputs": [
    {
     "data": {
      "text/plain": [
       "array([0, 1, 2, 3, 4])"
      ]
     },
     "execution_count": 56,
     "metadata": {},
     "output_type": "execute_result"
    }
   ],
   "source": [
    "# resposta 4\n",
    "def func(arr, n, m):\n",
    "    return arr[n:m]\n",
    "\n",
    "func(np.arange(10), 0, 5)"
   ]
  },
  {
   "cell_type": "markdown",
   "metadata": {},
   "source": [
    "## 5) Escreva uma função que recebe um vetor e um inteiro. Compare cada elemento desse vetor com o número inteiro. Se o elemento do vetor for maior, retorne a diferença entre eles, caso contrário, retorne a soma."
   ]
  },
  {
   "cell_type": "code",
   "execution_count": 51,
   "metadata": {},
   "outputs": [
    {
     "data": {
      "text/plain": [
       "[3, 4, 1]"
      ]
     },
     "execution_count": 51,
     "metadata": {},
     "output_type": "execute_result"
    }
   ],
   "source": [
    "# resposta 5\n",
    "def func(vetor, n):\n",
    "    return [(i - n if i > n else i + n) for i in vetor]\n",
    "\n",
    "func([1, 2, 3], 2)"
   ]
  },
  {
   "cell_type": "markdown",
   "metadata": {},
   "source": [
    "## 6) Dada a seguinte matriz:\n",
    "    -> [ 8,1,7\n",
    "         4,3,9\n",
    "         5,2,6]\n",
    "## escreva uma função que retorne a matriz ordenada por um dos eixos. utilize a função built-in sorted para realizar a ordenação"
   ]
  },
  {
   "cell_type": "code",
   "execution_count": 54,
   "metadata": {},
   "outputs": [
    {
     "data": {
      "text/plain": [
       "array([[1, 7, 8],\n",
       "       [3, 4, 9],\n",
       "       [2, 5, 6]])"
      ]
     },
     "execution_count": 54,
     "metadata": {},
     "output_type": "execute_result"
    }
   ],
   "source": [
    "# resposta 6\n",
    "import numpy as geek\n",
    "\n",
    "vetor = [ [8,1,7], [4,3,9], [5,2,6] ]\n",
    "\n",
    "geek.apply_along_axis(sorted, 1, vetor)"
   ]
  },
  {
   "cell_type": "code",
   "execution_count": null,
   "metadata": {},
   "outputs": [],
   "source": []
  }
 ],
 "metadata": {
  "kernelspec": {
   "display_name": "Python 3",
   "language": "python",
   "name": "python3"
  },
  "language_info": {
   "codemirror_mode": {
    "name": "ipython",
    "version": 3
   },
   "file_extension": ".py",
   "mimetype": "text/x-python",
   "name": "python",
   "nbconvert_exporter": "python",
   "pygments_lexer": "ipython3",
   "version": "3.7.3"
  }
 },
 "nbformat": 4,
 "nbformat_minor": 2
}
