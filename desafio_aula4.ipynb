{
 "cells": [
  {
   "cell_type": "markdown",
   "metadata": {},
   "source": [
    "# Exercícios"
   ]
  },
  {
   "cell_type": "markdown",
   "metadata": {},
   "source": [
    "## 1) Considerando o código abaixo, faça:\n",
    "    -> Crie um df a partir de data cujo index seja labels. Faça os imports necessários\n",
    "    -> Preencha os valores faltantes com a média dos valores\n",
    "    -> Retorne uma lista única dos animais\n",
    "    -> Compute as estatísticas básicas (contagem, soma, média, desvio padrão e variância)"
   ]
  },
  {
   "cell_type": "code",
   "execution_count": null,
   "metadata": {},
   "outputs": [],
   "source": [
    "data = {'animal': ['cat', 'cat', 'snake', 'dog', 'dog', 'cat', 'snake', 'cat', 'dog', 'dog'],\n",
    "        'age': [2.5, 3, 0.5, np.nan, 5, 2, 4.5, np.nan, 7, 3],\n",
    "        'visits': [1, 3, 2, 3, 2, 3, 1, 1, 2, 1],\n",
    "        'priority': ['yes', 'yes', 'no', 'yes', 'no', 'no', 'no', 'yes', 'no', 'no']}\n",
    "\n",
    "labels = ['a', 'b', 'c', 'd', 'e', 'f', 'g', 'h', 'i', 'j']"
   ]
  },
  {
   "cell_type": "code",
   "execution_count": 43,
   "metadata": {},
   "outputs": [
    {
     "name": "stdout",
     "output_type": "stream",
     "text": [
      "a      cat\n",
      "b      cat\n",
      "c    snake\n",
      "d      dog\n",
      "e      dog\n",
      "f      cat\n",
      "g    snake\n",
      "h      cat\n",
      "i      dog\n",
      "j      dog\n",
      "Name: animal, dtype: object\n",
      "==================================\n",
      "             age     visits\n",
      "count  10.000000  10.000000\n",
      "mean    3.437500   1.900000\n",
      "std     1.770711   0.875595\n",
      "min     0.500000   1.000000\n",
      "25%     2.625000   1.000000\n",
      "50%     3.218750   2.000000\n",
      "75%     4.234375   2.750000\n",
      "max     7.000000   3.000000\n",
      "==================================\n",
      "Variância da idade: 3.14\n",
      "Variância da visits: 0.77\n",
      "==================================\n",
      "Desvio padrão da idade: 1.77\n",
      "Desvio padrão da visits: 0.88\n"
     ]
    }
   ],
   "source": [
    "# resposta 1\n",
    "from pandas import Series, DataFrame\n",
    "import pandas as pd\n",
    "\n",
    "data = {'animal': ['cat', 'cat', 'snake', 'dog', 'dog', 'cat', 'snake', 'cat', 'dog', 'dog'],\n",
    "        'age': [2.5, 3, 0.5, np.nan, 5, 2, 4.5, np.nan, 7, 3],\n",
    "        'visits': [1, 3, 2, 3, 2, 3, 1, 1, 2, 1],\n",
    "        'priority': ['yes', 'yes', 'no', 'yes', 'no', 'no', 'no', 'yes', 'no', 'no']}\n",
    "\n",
    "labels = ['a', 'b', 'c', 'd', 'e', 'f', 'g', 'h', 'i', 'j']\n",
    "\n",
    "df = DataFrame(data, index = labels)\n",
    "df = df.fillna(df.mean().age)\n",
    "\n",
    "animal = df.animal\n",
    "\n",
    "print(animal)\n",
    "print('==================================')\n",
    "print(df.describe())\n",
    "print('==================================')\n",
    "print('Variância da idade: %.2f' % df.age.var())\n",
    "print('Variância da visits: %.2f' % df.visits.var())\n",
    "print('==================================')\n",
    "print('Desvio padrão da idade: %.2f' % df.age.std())\n",
    "print('Desvio padrão da visits: %.2f' % df.visits.std())"
   ]
  },
  {
   "cell_type": "markdown",
   "metadata": {},
   "source": [
    "## 2) Considerando o mesmo código, faça:\n",
    "    -> Crie uma função que multiplique o número de visitas por 2. Retorne o data frame completo com valores atualizados\n",
    "    -> Crie uma função que insere uma coluna que contenha um ranking dos animais mais visitados. Retorne o dataframe ordenado de forma descendente\n",
    "    -> Verifique se os animais da seguinte lista pertencem aos dados originais: New_animals = [‘cow’,’horse’,shark’]"
   ]
  },
  {
   "cell_type": "code",
   "execution_count": 68,
   "metadata": {},
   "outputs": [
    {
     "name": "stdout",
     "output_type": "stream",
     "text": [
      "   age animal priority  visits  ranking\n",
      "b  3.0    cat      yes       6      9.0\n",
      "d  NaN    dog      yes       6      9.0\n",
      "f  2.0    cat       no       6      9.0\n",
      "c  0.5  snake       no       4      6.0\n",
      "e  5.0    dog       no       4      6.0\n",
      "i  7.0    dog       no       4      6.0\n",
      "a  2.5    cat      yes       2      2.5\n",
      "g  4.5  snake       no       2      2.5\n",
      "h  NaN    cat      yes       2      2.5\n",
      "j  3.0    dog       no       2      2.5\n",
      "============================================\n",
      "b    False\n",
      "d    False\n",
      "f    False\n",
      "c    False\n",
      "e    False\n",
      "i    False\n",
      "a    False\n",
      "g    False\n",
      "h    False\n",
      "j    False\n",
      "Name: animal, dtype: bool\n"
     ]
    }
   ],
   "source": [
    "# resposta 2\n",
    "from pandas import Series, DataFrame\n",
    "import pandas as pd\n",
    "\n",
    "data = {'animal': ['cat', 'cat', 'snake', 'dog', 'dog', 'cat', 'snake', 'cat', 'dog', 'dog'],\n",
    "        'age': [2.5, 3, 0.5, np.nan, 5, 2, 4.5, np.nan, 7, 3],\n",
    "        'visits': [1, 3, 2, 3, 2, 3, 1, 1, 2, 1],\n",
    "        'priority': ['yes', 'yes', 'no', 'yes', 'no', 'no', 'no', 'yes', 'no', 'no']}\n",
    "\n",
    "labels = ['a', 'b', 'c', 'd', 'e', 'f', 'g', 'h', 'i', 'j']\n",
    "\n",
    "df = DataFrame(data, index = labels)\n",
    "df.visits = df.visits.apply(lambda x: x * 2)\n",
    "\n",
    "df['ranking'] = df.visits.rank(ascending=1)\n",
    "df = df.sort_values(by='ranking', ascending=False)\n",
    "\n",
    "print(df)\n",
    "print('============================================')\n",
    "new_animals = ['cow','horse','shark']\n",
    "print(df.animal.isin(new_animals))"
   ]
  },
  {
   "cell_type": "markdown",
   "metadata": {},
   "source": [
    "## 3) Crie uma função que filtre as linhas do df no código abaixo de acordo com a palavra-chave passada como parâmetro (apenas estado):"
   ]
  },
  {
   "cell_type": "code",
   "execution_count": 106,
   "metadata": {},
   "outputs": [
    {
     "name": "stdout",
     "output_type": "stream",
     "text": [
      "      DateofBirth State\n",
      "Aaron  1976-01-01    FL\n"
     ]
    }
   ],
   "source": [
    "df = pd.DataFrame({'DateofBirth':['1986-11-11','1999-05-12','1976-01-01',\n",
    "                                  '1986-06-01','1983-06-04','1990-03-07',\n",
    "                                  '1999-07-09'],\n",
    "                   'State':['NY','TX','FL','AL','AK','TX','TX']},\n",
    "                 index=['Jane','Nick','Aaron','Penelope','Dean',\n",
    "                        'Christina','Cornelia'])\n",
    "\n",
    "print(df[df.apply(lambda self: self['State'] == 'FL', axis=1)])"
   ]
  }
 ],
 "metadata": {
  "kernelspec": {
   "display_name": "Python 3",
   "language": "python",
   "name": "python3"
  },
  "language_info": {
   "codemirror_mode": {
    "name": "ipython",
    "version": 3
   },
   "file_extension": ".py",
   "mimetype": "text/x-python",
   "name": "python",
   "nbconvert_exporter": "python",
   "pygments_lexer": "ipython3",
   "version": "3.6.4"
  }
 },
 "nbformat": 4,
 "nbformat_minor": 2
}
